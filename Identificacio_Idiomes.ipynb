{
 "cells": [
  {
   "cell_type": "markdown",
   "metadata": {},
   "source": [
    "# Pràctica 1"
   ]
  },
  {
   "cell_type": "markdown",
   "metadata": {},
   "source": [
    "Carregar totes les dades"
   ]
  },
  {
   "cell_type": "code",
   "execution_count": 20,
   "metadata": {},
   "outputs": [
    {
     "data": {
      "text/plain": [
       "\"with open('C:/Users/USER/Desktop/UPC/quartquatri/PLH/practica1/deu_trn.txt', 'r', encoding='utf-8') as f:\\n    deu_trn = f.read()\\n\\nwith open('C:/Users/USER/Desktop/UPC/quartquatri/PLH/practica1/deu_tst.txt', 'r', encoding='utf-8') as f:\\n    deu_tst = f.read()\\n    \\nwith open('C:/Users/USER/Desktop/UPC/quartquatri/PLH/practica1/eng_trn.txt', 'r', encoding='utf-8') as f:\\n    eng_trn = f.read()\\n    \\nwith open('C:/Users/USER/Desktop/UPC/quartquatri/PLH/practica1/eng_tst.txt', 'r', encoding='utf-8') as f:\\n    eng_tst = f.read()\\n    \\nwith open('C:/Users/USER/Desktop/UPC/quartquatri/PLH/practica1/fra_trn.txt', 'r', encoding='utf-8') as f:\\n    fra_trn = f.read()\\n    \\nwith open('C:/Users/USER/Desktop/UPC/quartquatri/PLH/practica1/fra_tst.txt', 'r', encoding='utf-8') as f:\\n    fra_tst = f.read()\\n    \\nwith open('C:/Users/USER/Desktop/UPC/quartquatri/PLH/practica1/ita_trn.txt', 'r', encoding='utf-8') as f:\\n    ita_trn = f.read()\\n    \\nwith open('C:/Users/USER/Desktop/UPC/quartquatri/PLH/practica1/ita_tst.txt', 'r', encoding='utf-8') as f:\\n    ita_tst = f.read()\\n    \\nwith open('C:/Users/USER/Desktop/UPC/quartquatri/PLH/practica1/nld_trn.txt', 'r', encoding='utf-8') as f:\\n    nld_trn = f.read()\\n    \\nwith open('C:/Users/USER/Desktop/UPC/quartquatri/PLH/practica1/nld_tst.txt', 'r', encoding='utf-8') as f:\\n    nld_tst = f.read()\\n    \\nwith open('C:/Users/USER/Desktop/UPC/quartquatri/PLH/practica1/spa_trn.txt', 'r', encoding='utf-8') as f:\\n    spa_trn = f.read()\\n    \\nwith open('C:/Users/USER/Desktop/UPC/quartquatri/PLH/practica1/spa_tst.txt', 'r', encoding='utf-8') as f:\\n    spa_tst = f.read()\""
      ]
     },
     "execution_count": 20,
     "metadata": {},
     "output_type": "execute_result"
    }
   ],
   "source": [
    "with open('C:/Users/Usuario/OneDrive/Escritorio/UPC/4rt Quadrimestre/PLH/Pràctica1/langId/deu_trn.txt', 'r', encoding='utf-8') as f:\n",
    "    deu_trn = f.read()\n",
    "\n",
    "with open('C:/Users/Usuario/OneDrive/Escritorio/UPC/4rt Quadrimestre/PLH/Pràctica1/langId/deu_tst.txt', 'r', encoding='utf-8') as f:\n",
    "    deu_tst = f.read()\n",
    "    \n",
    "with open('C:/Users/Usuario/OneDrive/Escritorio/UPC/4rt Quadrimestre/PLH/Pràctica1/langId/eng_trn.txt', 'r', encoding='utf-8') as f:\n",
    "    eng_trn = f.read()\n",
    "    \n",
    "with open('C:/Users/Usuario/OneDrive/Escritorio/UPC/4rt Quadrimestre/PLH/Pràctica1/langId/eng_tst.txt', 'r', encoding='utf-8') as f:\n",
    "    eng_tst = f.read()\n",
    "    \n",
    "with open('C:/Users/Usuario/OneDrive/Escritorio/UPC/4rt Quadrimestre/PLH/Pràctica1/langId/fra_trn.txt', 'r', encoding='utf-8') as f:\n",
    "    fra_trn = f.read()\n",
    "    \n",
    "with open('C:/Users/Usuario/OneDrive/Escritorio/UPC/4rt Quadrimestre/PLH/Pràctica1/langId/fra_tst.txt', 'r', encoding='utf-8') as f:\n",
    "    fra_tst = f.read()\n",
    "    \n",
    "with open('C:/Users/Usuario/OneDrive/Escritorio/UPC/4rt Quadrimestre/PLH/Pràctica1/langId/ita_trn.txt', 'r', encoding='utf-8') as f:\n",
    "    ita_trn = f.read()\n",
    "    \n",
    "with open('C:/Users/Usuario/OneDrive/Escritorio/UPC/4rt Quadrimestre/PLH/Pràctica1/langId/ita_tst.txt', 'r', encoding='utf-8') as f:\n",
    "    ita_tst = f.read()\n",
    "    \n",
    "with open('C:/Users/Usuario/OneDrive/Escritorio/UPC/4rt Quadrimestre/PLH/Pràctica1/langId/nld_trn.txt', 'r', encoding='utf-8') as f:\n",
    "    nld_trn = f.read()\n",
    "    \n",
    "with open('C:/Users/Usuario/OneDrive/Escritorio/UPC/4rt Quadrimestre/PLH/Pràctica1/langId/nld_tst.txt', 'r', encoding='utf-8') as f:\n",
    "    nld_tst = f.read()\n",
    "    \n",
    "with open('C:/Users/Usuario/OneDrive/Escritorio/UPC/4rt Quadrimestre/PLH/Pràctica1/langId/spa_trn.txt', 'r', encoding='utf-8') as f:\n",
    "    spa_trn = f.read()\n",
    "    \n",
    "with open('C:/Users/Usuario/OneDrive/Escritorio/UPC/4rt Quadrimestre/PLH/Pràctica1/langId/spa_tst.txt', 'r', encoding='utf-8') as f:\n",
    "    spa_tst = f.read()\n",
    "    \n",
    "\"\"\"with open('C:/Users/USER/Desktop/UPC/quartquatri/PLH/practica1/deu_trn.txt', 'r', encoding='utf-8') as f:\n",
    "    deu_trn = f.read()\n",
    "\n",
    "with open('C:/Users/USER/Desktop/UPC/quartquatri/PLH/practica1/deu_tst.txt', 'r', encoding='utf-8') as f:\n",
    "    deu_tst = f.read()\n",
    "    \n",
    "with open('C:/Users/USER/Desktop/UPC/quartquatri/PLH/practica1/eng_trn.txt', 'r', encoding='utf-8') as f:\n",
    "    eng_trn = f.read()\n",
    "    \n",
    "with open('C:/Users/USER/Desktop/UPC/quartquatri/PLH/practica1/eng_tst.txt', 'r', encoding='utf-8') as f:\n",
    "    eng_tst = f.read()\n",
    "    \n",
    "with open('C:/Users/USER/Desktop/UPC/quartquatri/PLH/practica1/fra_trn.txt', 'r', encoding='utf-8') as f:\n",
    "    fra_trn = f.read()\n",
    "    \n",
    "with open('C:/Users/USER/Desktop/UPC/quartquatri/PLH/practica1/fra_tst.txt', 'r', encoding='utf-8') as f:\n",
    "    fra_tst = f.read()\n",
    "    \n",
    "with open('C:/Users/USER/Desktop/UPC/quartquatri/PLH/practica1/ita_trn.txt', 'r', encoding='utf-8') as f:\n",
    "    ita_trn = f.read()\n",
    "    \n",
    "with open('C:/Users/USER/Desktop/UPC/quartquatri/PLH/practica1/ita_tst.txt', 'r', encoding='utf-8') as f:\n",
    "    ita_tst = f.read()\n",
    "    \n",
    "with open('C:/Users/USER/Desktop/UPC/quartquatri/PLH/practica1/nld_trn.txt', 'r', encoding='utf-8') as f:\n",
    "    nld_trn = f.read()\n",
    "    \n",
    "with open('C:/Users/USER/Desktop/UPC/quartquatri/PLH/practica1/nld_tst.txt', 'r', encoding='utf-8') as f:\n",
    "    nld_tst = f.read()\n",
    "    \n",
    "with open('C:/Users/USER/Desktop/UPC/quartquatri/PLH/practica1/spa_trn.txt', 'r', encoding='utf-8') as f:\n",
    "    spa_trn = f.read()\n",
    "    \n",
    "with open('C:/Users/USER/Desktop/UPC/quartquatri/PLH/practica1/spa_tst.txt', 'r', encoding='utf-8') as f:\n",
    "    spa_tst = f.read()\"\"\""
   ]
  },
  {
   "cell_type": "markdown",
   "metadata": {},
   "source": [
    "## Preprocessing"
   ]
  },
  {
   "cell_type": "markdown",
   "metadata": {},
   "source": [
    "### Eliminació de digits"
   ]
  },
  {
   "cell_type": "code",
   "execution_count": 21,
   "metadata": {},
   "outputs": [],
   "source": [
    "import re\n",
    "\n",
    "sense_digits_deu_trn = re.sub(r'\\d', '', deu_trn)\n",
    "sense_digits_deu_tst = re.sub(r'\\d', '', deu_tst)\n",
    "\n",
    "sense_digits_eng_trn = re.sub(r'\\d', '', eng_trn)\n",
    "sense_digits_eng_tst = re.sub(r'\\d', '', eng_tst)\n",
    "\n",
    "sense_digits_fra_trn = re.sub(r'\\d', '', fra_trn)\n",
    "sense_digits_fra_tst = re.sub(r'\\d', '', fra_tst)\n",
    "\n",
    "sense_digits_ita_trn = re.sub(r'\\d', '', ita_trn)\n",
    "sense_digits_ita_tst = re.sub(r'\\d', '', ita_tst)\n",
    "\n",
    "sense_digits_nld_trn = re.sub(r'\\d', '', nld_trn)\n",
    "sense_digits_nld_tst = re.sub(r'\\d', '', nld_tst)\n",
    "\n",
    "sense_digits_spa_trn = re.sub(r'\\d', '', spa_trn)\n",
    "sense_digits_spa_tst = re.sub(r'\\d', '', spa_tst)"
   ]
  },
  {
   "cell_type": "markdown",
   "metadata": {},
   "source": [
    "### Convertir text en miniscula"
   ]
  },
  {
   "cell_type": "code",
   "execution_count": 22,
   "metadata": {},
   "outputs": [],
   "source": [
    "minuscules_deu_trn = sense_digits_deu_trn.lower()\n",
    "minuscules_deu_tst = sense_digits_deu_tst.lower()\n",
    "\n",
    "minuscules_eng_trn = sense_digits_eng_trn.lower()\n",
    "minuscules_eng_tst = sense_digits_eng_tst.lower()\n",
    "\n",
    "minuscules_fra_trn = sense_digits_fra_trn.lower()\n",
    "minuscules_fra_tst = sense_digits_fra_tst.lower()\n",
    "\n",
    "minuscules_ita_trn = sense_digits_ita_trn.lower()\n",
    "minuscules_ita_tst = sense_digits_ita_tst.lower()\n",
    "\n",
    "minuscules_nld_trn = sense_digits_nld_trn.lower()\n",
    "minuscules_nld_tst = sense_digits_nld_tst.lower()\n",
    "\n",
    "minuscules_spa_trn = sense_digits_spa_trn.lower()\n",
    "minuscules_spa_tst = sense_digits_spa_tst.lower()"
   ]
  },
  {
   "cell_type": "markdown",
   "metadata": {},
   "source": [
    "### Substitució d'espais continus"
   ]
  },
  {
   "cell_type": "code",
   "execution_count": 23,
   "metadata": {},
   "outputs": [],
   "source": [
    "un_espai_deu_trn = re.sub(r'\\s+', ' ', minuscules_deu_trn)\n",
    "un_espai_deu_tst = re.sub(r'\\s+', ' ', minuscules_deu_tst)\n",
    "\n",
    "un_espai_eng_trn = re.sub(r'\\s+', ' ', minuscules_eng_trn)\n",
    "un_espai_eng_tst = re.sub(r'\\s+', ' ', minuscules_eng_tst)\n",
    "\n",
    "un_espai_fra_trn = re.sub(r'\\s+', ' ', minuscules_fra_trn)\n",
    "un_espai_fra_tst = re.sub(r'\\s+', ' ', minuscules_fra_tst)\n",
    "\n",
    "un_espai_ita_trn = re.sub(r'\\s+', ' ', minuscules_ita_trn)\n",
    "un_espai_ita_tst = re.sub(r'\\s+', ' ', minuscules_ita_tst)\n",
    "\n",
    "un_espai_nld_trn = re.sub(r'\\s+', ' ', minuscules_nld_trn)\n",
    "un_espai_nld_tst = re.sub(r'\\s+', ' ', minuscules_nld_tst)\n",
    "\n",
    "un_espai_spa_trn = re.sub(r'\\s+', ' ', minuscules_spa_trn)\n",
    "un_espai_spa_tst = re.sub(r'\\s+', ' ', minuscules_spa_tst)"
   ]
  },
  {
   "cell_type": "markdown",
   "metadata": {},
   "source": [
    "### Cocatenar frases amb un espai doble"
   ]
  },
  {
   "cell_type": "code",
   "execution_count": 24,
   "metadata": {},
   "outputs": [],
   "source": [
    "import nltk\n",
    "from nltk.tokenize import sent_tokenize"
   ]
  },
  {
   "cell_type": "code",
   "execution_count": 25,
   "metadata": {},
   "outputs": [],
   "source": [
    "# Divideix el text en frases\n",
    "frases = sent_tokenize(un_espai_deu_trn, language='german')\n",
    "text_processat_deu_trn = \"  \".join(frases)\n",
    "frases = sent_tokenize(un_espai_deu_tst, language='german')\n",
    "text_processat_deu_tst = \"  \".join(frases)\n",
    "\n",
    "frases = sent_tokenize(un_espai_eng_trn)\n",
    "text_processat_eng_trn = \"  \".join(frases)\n",
    "frases = sent_tokenize(un_espai_eng_tst)\n",
    "text_processat_eng_tst = \"  \".join(frases)\n",
    "\n",
    "frases = sent_tokenize(un_espai_fra_trn, language='french')\n",
    "text_processat_fra_trn = \"  \".join(frases)\n",
    "frases = sent_tokenize(un_espai_fra_tst, language='french')\n",
    "text_processat_fra_tst = \"  \".join(frases)\n",
    "\n",
    "frases = sent_tokenize(un_espai_ita_trn, language='italian')\n",
    "text_processat_ita_trn = \"  \".join(frases)\n",
    "frases = sent_tokenize(un_espai_ita_tst, language='italian')\n",
    "text_processat_ita_tst = \"  \".join(frases)\n",
    "\n",
    "frases = sent_tokenize(un_espai_nld_trn, language='dutch')\n",
    "text_processat_nld_trn = \"  \".join(frases)\n",
    "frases = sent_tokenize(un_espai_nld_tst, language='dutch')\n",
    "text_processat_nld_tst = \"  \".join(frases)\n",
    "\n",
    "frases = sent_tokenize(un_espai_spa_trn, language='spanish')\n",
    "text_processat_spa_trn = \"  \".join(frases)\n",
    "frases = sent_tokenize(un_espai_spa_tst, language='spanish')\n",
    "text_processat_spa_tst = \"  \".join(frases)"
   ]
  },
  {
   "cell_type": "markdown",
   "metadata": {},
   "source": [
    "## Utilitzem trigrams de caràcters com a model del llenguatge"
   ]
  },
  {
   "cell_type": "markdown",
   "metadata": {},
   "source": [
    "<span style=\"color:lightgreen\"> Només generem els trigrames en els corpus d'entrenament per a poder completar el preprocessing de les dades eliminant aquells trigrames que apareixen menys de 5 vegades en els conjunts de training. Més tard, quan calculem la probabilitat dels trigrames pels corpus del test necessitarem tot el text per a poder dividir-lo en frases i evaluar el model en base a les prediccions fetes sobre l'idioma per cada frase. </span>"
   ]
  },
  {
   "cell_type": "code",
   "execution_count": 27,
   "metadata": {},
   "outputs": [],
   "source": [
    "from nltk.collocations import TrigramCollocationFinder\n",
    "\n",
    "trigrames_deu_trn = TrigramCollocationFinder.from_words(text_processat_deu_trn)\n",
    "\n",
    "trigrames_eng_trn = TrigramCollocationFinder.from_words(text_processat_eng_trn)\n",
    "\n",
    "trigrames_fra_trn = TrigramCollocationFinder.from_words(text_processat_fra_trn)\n",
    "\n",
    "trigrames_ita_trn = TrigramCollocationFinder.from_words(text_processat_ita_trn)\n",
    "\n",
    "trigrames_nld_trn = TrigramCollocationFinder.from_words(text_processat_nld_trn)\n",
    "\n",
    "trigrames_spa_trn = TrigramCollocationFinder.from_words(text_processat_spa_trn)"
   ]
  },
  {
   "cell_type": "code",
   "execution_count": null,
   "metadata": {},
   "outputs": [],
   "source": [
    "print(\"Trigrames abans del filtre:\")\n",
    "for trigram, freq in trigrames_spa_trn.ngram_fd.items():\n",
    "    if freq <5:\n",
    "        print(trigram, freq)"
   ]
  },
  {
   "cell_type": "markdown",
   "metadata": {},
   "source": [
    "## Eliminació de trigrames que apareixin menys de 5 vegades"
   ]
  },
  {
   "cell_type": "code",
   "execution_count": 30,
   "metadata": {},
   "outputs": [],
   "source": [
    "trigrames_deu_trn.apply_freq_filter(5)\n",
    "\n",
    "trigrames_eng_trn.apply_freq_filter(5)\n",
    "\n",
    "trigrames_fra_trn.apply_freq_filter(5)\n",
    "\n",
    "trigrames_ita_trn.apply_freq_filter(5)\n",
    "\n",
    "trigrames_nld_trn.apply_freq_filter(5)\n",
    "\n",
    "trigrames_spa_trn.apply_freq_filter(5)"
   ]
  },
  {
   "cell_type": "code",
   "execution_count": 31,
   "metadata": {},
   "outputs": [
    {
     "name": "stdout",
     "output_type": "stream",
     "text": [
      "Trigramas després del filtre:\n"
     ]
    }
   ],
   "source": [
    "print(\"Trigramas després del filtre:\")\n",
    "for trigram, freq in trigrames_spa_trn.ngram_fd.items():\n",
    "    if freq<5:\n",
    "        print(trigram, freq)"
   ]
  },
  {
   "cell_type": "markdown",
   "metadata": {},
   "source": [
    "## Creació del model"
   ]
  },
  {
   "cell_type": "markdown",
   "metadata": {},
   "source": [
    "<span style=\"color:lightgreen\"> Creem un diccionari per a cada idioma per a guardar les ocurrències de cada trigrama en aquest idioma. \n",
    "Per realitzar la identificació dels idiomes crearem el model incorporant la tècnica de smoothing 'LID'; la massa de probabilitat reservada que escollim per si ens trobem amb un trigrama no observat és de 0.5; i la B que utilitzem en el model és el resultat dels unigrames diferents apareguts en cada corpus d'entrenament i per a cada idioma.  </span>"
   ]
  },
  {
   "cell_type": "markdown",
   "metadata": {},
   "source": [
    "Maximum likelihood estimator model"
   ]
  },
  {
   "cell_type": "code",
   "execution_count": 95,
   "metadata": {},
   "outputs": [],
   "source": [
    "y = 0.5 # masa de probabilidad reservada\n",
    "\n",
    "### Diccionari alemany\n",
    "\n",
    "diccionari_deu = {}\n",
    "\n",
    "Nt_deu = sum(ej[1] for ej in trigrames_deu_trn.ngram_fd.items()) # num. d'ocurrències d'unigrames en el corpus d'entrenament\n",
    "B_deu = len(trigrames_deu_trn.ngram_fd.items()) # unigrames potencialment observables\n",
    "\n",
    "for ej in trigrames_deu_trn.ngram_fd.items():\n",
    "    ct = ej[1] # num. d'ocurrències de ej en el corpus d'entrenament\n",
    "    diccionari_deu[ej[0]] = ct\n",
    "\n",
    "\n",
    "### Diccionari anglès\n",
    "\n",
    "diccionari_eng = {}\n",
    "\n",
    "Nt_eng = sum(ej[1] for ej in trigrames_eng_trn.ngram_fd.items()) # num. d'ocurrències d'unigrames en el corpus d'entrenament\n",
    "B_eng = len(trigrames_eng_trn.ngram_fd.items()) # unigrames potencialment observables\n",
    "\n",
    "for ej in trigrames_eng_trn.ngram_fd.items():\n",
    "    ct = ej[1] # num. d'ocurrències de ej en el corpus d'entrenament\n",
    "    diccionari_eng[ej[0]] = ct\n",
    "\n",
    "\n",
    "### Diccionari francès\n",
    "\n",
    "diccionari_fra = {}\n",
    "\n",
    "Nt_fra = sum(ej[1] for ej in trigrames_fra_trn.ngram_fd.items()) # num. d'ocurrències d'unigrames en el corpus d'entrenament\n",
    "B_fra = len(trigrames_fra_trn.ngram_fd.items()) # unigrames potencialment observables\n",
    "\n",
    "for ej in trigrames_fra_trn.ngram_fd.items():\n",
    "    ct = ej[1] # num. d'ocurrències de ej en el corpus d'entrenament\n",
    "    diccionari_fra[ej[0]] = ct\n",
    "\n",
    "\n",
    "### Diccionari italià\n",
    "\n",
    "diccionari_ita = {}\n",
    "\n",
    "Nt_ita = sum(ej[1] for ej in trigrames_ita_trn.ngram_fd.items()) # num. d'ocurrències d'unigrames en el corpus d'entrenament\n",
    "B_ita = len(trigrames_ita_trn.ngram_fd.items()) # unigrames potencialment observables\n",
    "\n",
    "for ej in trigrames_ita_trn.ngram_fd.items():\n",
    "    ct = ej[1] # num. d'ocurrències de ej en el corpus d'entrenament\n",
    "    diccionari_ita[ej[0]] = ct\n",
    "    \n",
    "### Diccionari neerlandès\n",
    "\n",
    "diccionari_nld = {}\n",
    "\n",
    "Nt_nld = sum(ej[1] for ej in trigrames_nld_trn.ngram_fd.items()) # num. d'ocurrències d'unigrames en el corpus d'entrenament\n",
    "B_nld = len(trigrames_nld_trn.ngram_fd.items()) # unigrames potencialment observables\n",
    "\n",
    "for ej in trigrames_nld_trn.ngram_fd.items():\n",
    "    ct = ej[1] # num. d'ocurrències de ej en el corpus d'entrenament\n",
    "    diccionari_nld[ej[0]] = ct\n",
    "    \n",
    "\n",
    "### Diccionari espanyol\n",
    "\n",
    "diccionari_spa = {}\n",
    "\n",
    "Nt_spa = sum(ej[1] for ej in trigrames_spa_trn.ngram_fd.items()) # num. d'ocurrències d'unigrames en el corpus d'entrenament\n",
    "B_spa = len(trigrames_spa_trn.ngram_fd.items()) # unigrames potencialment observables\n",
    "\n",
    "for ej in trigrames_spa_trn.ngram_fd.items():\n",
    "    ct = ej[1] # num. d'ocurrències de ej en el corpus d'entrenament\n",
    "    diccionari_spa[ej[0]] = ct\n"
   ]
  },
  {
   "cell_type": "code",
   "execution_count": 96,
   "metadata": {},
   "outputs": [],
   "source": [
    "import math\n",
    "\n",
    "def lid(ct,N,B):\n",
    "    \"\"\"\n",
    "    Funció que calcula el logaritme de la probabilitat del trigrama amb la tècnica 'LID'\n",
    "    \"\"\"\n",
    "        \n",
    "    i = math.log((ct+y)/(N + y*B))\n",
    "    \n",
    "    return i"
   ]
  },
  {
   "cell_type": "markdown",
   "metadata": {},
   "source": [
    "<span style=\"color:lightgreen\"> Creem la funció que calcula la probabilitat de cada frase que passem del corpus del test aplicant la tècnica de smoothing LID. També creem la matriu que ens diu els true values per cada idioma per a una posterior avaluació. </span>"
   ]
  },
  {
   "cell_type": "code",
   "execution_count": 104,
   "metadata": {},
   "outputs": [],
   "source": [
    "idiomes = ['deu', 'eng', 'fra', 'ita', 'nld', 'spa']\n",
    "\n",
    "diccionari_idiomes = {\n",
    "    'deu': (diccionari_deu, Nt_deu, B_deu),\n",
    "    'eng': (diccionari_eng, Nt_eng, B_eng),\n",
    "    'fra': (diccionari_fra, Nt_fra, B_fra),\n",
    "    'ita': (diccionari_ita, Nt_ita, B_ita),\n",
    "    'nld': (diccionari_nld, Nt_nld, B_nld),\n",
    "    'spa': (diccionari_spa, Nt_spa, B_spa)\n",
    "}\n",
    "\n",
    "true_values = [['deu', 0, 0, 0, 0, 0], \n",
    "                [0, 'eng', 0, 0, 0, 0], \n",
    "                [0, 0, 'fra', 0, 0, 0],\n",
    "                [0, 0, 0, 'ita', 0, 0],\n",
    "                [0, 0, 0, 0, 'nld', 0],\n",
    "                [0, 0, 0, 0, 0, 'spa']]\n",
    "\n",
    "def model_LID(text_test, idioma_real):\n",
    "    \"\"\"Aquesta funció retorna la probabilitat del text per a cada idioma\"\"\"\n",
    "\n",
    "    # Inicialitzem un diccionari per a comptar les prediccions de cada idioma i el total de prediccions\n",
    "    count_predicciones = {idioma: 0 for idioma in idiomes}\n",
    "\n",
    "    frases = text_test.split(\"  \")\n",
    "    \n",
    "    # Creació matriu valors reals\n",
    "    index_idioma_real = idiomes.index(idioma_real)\n",
    "    if true_values[index_idioma_real][index_idioma_real] != int:    \n",
    "        true_values[index_idioma_real][index_idioma_real] = len(frases)\n",
    "    \n",
    "    probabilitat = {}\n",
    "    \n",
    "    for frase in frases:\n",
    "        \n",
    "        trigrames = TrigramCollocationFinder.from_words(frase)\n",
    "    \n",
    "        for lng, (diccionari, Nt, B) in diccionari_idiomes.items():\n",
    "            \n",
    "            total = 0\n",
    "            \n",
    "            for ej in trigrames.ngram_fd.items():\n",
    "                \n",
    "                if ej[0] in diccionari:\n",
    "                    total += lid(diccionari[ej[0]],Nt,B) # calculem el productori de les probabilitats\n",
    "                else:\n",
    "                    total += lid(0,Nt,B)\n",
    "                    \n",
    "            probabilitat[lng] = total\n",
    "        \n",
    "        # Obtenim l'idioma amb major probabilitat\n",
    "        idioma_predit = max(probabilitat, key=probabilitat.get)\n",
    "        \n",
    "        # Actualitzem els contadors de prediccions\n",
    "        count_predicciones[idioma_predit] += 1\n",
    "\n",
    "    # Retornem la precisió i el diccionari de prediccions\n",
    "    return count_predicciones\n"
   ]
  },
  {
   "cell_type": "markdown",
   "metadata": {},
   "source": [
    "## Identificació Idiomes"
   ]
  },
  {
   "cell_type": "markdown",
   "metadata": {},
   "source": [
    "<span style=\"color:lightgreen\"> Fem la identificació dels idiomes i creem la matriu que utilitzarem per evaluar el model. </span>"
   ]
  },
  {
   "cell_type": "code",
   "execution_count": 109,
   "metadata": {},
   "outputs": [
    {
     "name": "stdout",
     "output_type": "stream",
     "text": [
      "{'deu': 10592, 'eng': 25, 'fra': 10, 'ita': 25, 'nld': 22, 'spa': 9}\n",
      "{'deu': 38, 'eng': 10195, 'fra': 22, 'ita': 5, 'nld': 13, 'spa': 5}\n",
      "{'deu': 10, 'eng': 10, 'fra': 10184, 'ita': 3, 'nld': 5, 'spa': 6}\n",
      "{'deu': 21, 'eng': 20, 'fra': 6, 'ita': 10353, 'nld': 10, 'spa': 10}\n",
      "{'deu': 35, 'eng': 39, 'fra': 6, 'ita': 7, 'nld': 10333, 'spa': 4}\n",
      "{'deu': 163, 'eng': 18, 'fra': 5, 'ita': 19, 'nld': 10, 'spa': 10250}\n"
     ]
    }
   ],
   "source": [
    "# identificació idioma\n",
    "texts = [text_processat_deu_tst, text_processat_eng_tst, text_processat_fra_tst, text_processat_ita_tst, text_processat_nld_tst, text_processat_spa_tst]\n",
    "\n",
    "matriu_resultat = []\n",
    "for lang, text in zip(idiomes, texts):\n",
    "    matriz_lang = model_LID(text, lang)\n",
    "    print(matriz_lang)\n",
    "    matriu_resultat.append([matriz_lang[idioma] for idioma in matriz_lang])\n"
   ]
  },
  {
   "cell_type": "markdown",
   "metadata": {},
   "source": [
    "## Avaluació rendiment"
   ]
  },
  {
   "cell_type": "markdown",
   "metadata": {},
   "source": [
    "<span style=\"color:lightgreen\"> Creem la matriu de confussió i calculem la accuracy del model. </span>"
   ]
  },
  {
   "cell_type": "code",
   "execution_count": 106,
   "metadata": {},
   "outputs": [
    {
     "data": {
      "text/plain": [
       "[[10592, 25, 10, 25, 22, 9],\n",
       " [38, 10195, 22, 5, 13, 5],\n",
       " [10, 10, 10184, 3, 5, 6],\n",
       " [21, 20, 6, 10353, 10, 10],\n",
       " [35, 39, 6, 7, 10333, 4],\n",
       " [163, 18, 5, 19, 10, 10250]]"
      ]
     },
     "execution_count": 106,
     "metadata": {},
     "output_type": "execute_result"
    }
   ],
   "source": [
    "matriu_resultat"
   ]
  },
  {
   "cell_type": "code",
   "execution_count": 107,
   "metadata": {},
   "outputs": [
    {
     "data": {
      "text/plain": [
       "[[10683, 0, 0, 0, 0, 0],\n",
       " [0, 10278, 0, 0, 0, 0],\n",
       " [0, 0, 10218, 0, 0, 0],\n",
       " [0, 0, 0, 10420, 0, 0],\n",
       " [0, 0, 0, 0, 10424, 0],\n",
       " [0, 0, 0, 0, 0, 10465]]"
      ]
     },
     "execution_count": 107,
     "metadata": {},
     "output_type": "execute_result"
    }
   ],
   "source": [
    "true_values"
   ]
  },
  {
   "cell_type": "code",
   "execution_count": 108,
   "metadata": {},
   "outputs": [
    {
     "data": {
      "image/png": "[encoded data removed]",
      "text/plain": [
       "<Figure size 1000x600 with 2 Axes>"
      ]
     },
     "metadata": {},
     "output_type": "display_data"
    }
   ],
   "source": [
    "import matplotlib.pyplot as plt\n",
    "import numpy as np\n",
    "\n",
    "matriz = np.array(matriu_resultat)\n",
    "\n",
    "# Crear el gráfico de matriz\n",
    "plt.figure(figsize=(10, 6))\n",
    "\n",
    "# Dibujar la matriz como una imagen\n",
    "plt.imshow(matriz, cmap='Blues_r', interpolation='nearest')\n",
    "\n",
    "# Agregar líneas entre los cuadrados\n",
    "for i in range(matriz.shape[0] + 1):\n",
    "    plt.axhline(i - 0.5, color='black', linewidth=0.5)\n",
    "\n",
    "for j in range(matriz.shape[1] + 1):\n",
    "    plt.axvline(j - 0.5, color='black', linewidth=0.5)\n",
    "\n",
    "# Agregar etiquetas con los números de la matriz\n",
    "idiomas = ['deu', 'eng', 'fra', 'ita', 'nld', 'spa']\n",
    "for i in range(matriz.shape[0]):\n",
    "    for j in range(matriz.shape[1]):\n",
    "        plt.text(j, i, str(matriz[i, j]), ha='center', va='center', color='black')\n",
    "\n",
    "# Ajustar la apariencia del gráfico\n",
    "plt.colorbar(label='Valor')\n",
    "plt.title('Matriu de confusió')\n",
    "plt.xlabel('Predicció')\n",
    "plt.ylabel('Originals')\n",
    "\n",
    "# Añadir las etiquetas de idiomas para las filas y columnas\n",
    "plt.xticks(range(len(idiomes)), idiomes)\n",
    "plt.yticks(range(len(idiomes)), idiomes)\n",
    "\n",
    "plt.show()"
   ]
  },
  {
   "cell_type": "markdown",
   "metadata": {},
   "source": [
    "### Accuracy"
   ]
  },
  {
   "cell_type": "markdown",
   "metadata": {},
   "source": [
    "indivdual class Accuracy: TP of that class/total instances in that class"
   ]
  },
  {
   "cell_type": "markdown",
   "metadata": {},
   "source": [
    "cm_matrix = \n",
    "                predict_class1    predict_class2    predict_class3\n",
    "                 ______________    ______________    ______________\n",
    "\n",
    "Actual_class1         2000                 0                 0     \n",
    "Actual_class2           34              1966                 0     \n",
    "Actual_class3            0                 0              2000   \n",
    "\n",
    "\n",
    "\n",
    "Multi-Class Confusion Matrix Output\n",
    "                     TruePositive    FalsePositive    FalseNegative    TrueNegative\n",
    "                     ____________    _____________    _____________    ____________\n",
    "\n",
    "    Actual_class1        2000             34                0              3966    \n",
    "    Actual_class2        1966              0               34              4000    \n",
    "    Actual_class3        2000              0                0              4000    "
   ]
  },
  {
   "cell_type": "code",
   "execution_count": 283,
   "metadata": {},
   "outputs": [],
   "source": [
    "def evaluate_model(true_values, pred_values):\n",
    "    predicted_idiomes = [f\"Predicted_{idioma}\" for idioma in idiomes]\n",
    "    \n",
    "    # Imprimir encabezado\n",
    "    print(\"{:^20}\".format(\"Confusion Matrix Output\"))\n",
    "    \n",
    "    # Imprimir los nombres de los idiomas como encabezados de columna\n",
    "    header_format = \"{:<20} |\" + \"| \".join([\"{:<15}\" for _ in range(len(idiomes))])\n",
    "    print(header_format.format(\" \", *predicted_idiomes))\n",
    "    \n",
    "    # Imprimir línea horizontal debajo de los encabezados de columna\n",
    "    print(\"{:<20} |\".format(\"_\" * 20), end=\"\")\n",
    "    for _ in range(len(idiomes)):\n",
    "        print(\"{:<15}| \".format(\"_\" * 15), end=\"\")\n",
    "    print()\n",
    "    \n",
    "    # Imprimir cada fila de la matriz con el nombre del idioma correspondiente\n",
    "    for i in range(len(idiomes)):\n",
    "        row_values = [str(value) for value in pred_values[i]]\n",
    "        print(\"{:<20} |\".format(f'Actual_{idiomes[i]}'), end=\"\")\n",
    "        for value in row_values:\n",
    "            print(\"{:<15}| \".format(value), end=\"\")\n",
    "        print()\n",
    "        \n",
    "        # Imprimir línea horizontal después de cada fila\n",
    "        print(\"{:<20} |\".format(\"_\" * 20), end=\"\")\n",
    "        for _ in range(len(idiomes)):\n",
    "            print(\"{:<15}| \".format(\"_\" * 15), end=\"\")\n",
    "        print()\n",
    "\n",
    "\n",
    "    # Imprimir encabezado\n",
    "    print(\"\\n\")\n",
    "    print(\"{:^20}\".format(\"Evaluation\"))\n",
    "    print(\"{:<20} {:<15} {:<15} {:<15} {:<15} \".format(\" \", \"TruePositive\", \"FalsePositive\", \"FalseNegative\", \"TrueNegative\"))\n",
    "    print(\"{:<20} {:^15} {:^15} {:^15} {:^15} \".format(\"\", \"_\"*14 + \" \", \"_\"*14 + \" \", \"_\"*14 + \" \", \"_\"*13 + \" \"))\n",
    "\n",
    "    # Imprimir cada fila de la matriz con el nombre del idioma correspondiente\n",
    "    for i in range(len(idiomes)):\n",
    "        row_values = []\n",
    "        # Calcular True Positives, False Positives, False Negatives y True Negatives\n",
    "        TP = pred_values[i][i]\n",
    "        FP = sum(pred_values[j][i] for j in range(len(idiomes)) if j != i)\n",
    "        FN = sum(pred_values[i][j] for j in range(len(idiomes)) if j != i)\n",
    "        TN = sum(sum(pred_values[j]) for j in range(len(idiomes))) - TP - FP - FN\n",
    "        \n",
    "        # Agregar los valores a la lista row_values\n",
    "        row_values.extend([TP, FP, FN, TN])\n",
    "        # Imprimir cada fila de la matriz con el nombre del idioma correspondiente\n",
    "\n",
    "        print(\"{:<20}\".format(f'Actual_{idiomes[i]}'), end=\"\")\n",
    "        for value in row_values:\n",
    "            print(\"{:^15}\".format(value), end=\"\")\n",
    "        print(\"\\n{:^15} {:^15} {:^15} {:^15} {:^15} \".format(\"\", \"\", \"\", \"\", \"\"))\n",
    "\n"
   ]
  },
  {
   "cell_type": "code",
   "execution_count": 284,
   "metadata": {},
   "outputs": [
    {
     "name": "stdout",
     "output_type": "stream",
     "text": [
      "Confusion Matrix Output\n",
      "                     |Predicted_deu  | Predicted_eng  | Predicted_fra  | Predicted_ita  | Predicted_nld  | Predicted_spa  \n",
      "____________________ |_______________| _______________| _______________| _______________| _______________| _______________| \n",
      "Actual_deu           |10592          | 25             | 10             | 25             | 22             | 9              | \n",
      "____________________ |_______________| _______________| _______________| _______________| _______________| _______________| \n",
      "Actual_eng           |38             | 10195          | 22             | 5              | 13             | 5              | \n",
      "____________________ |_______________| _______________| _______________| _______________| _______________| _______________| \n",
      "Actual_fra           |10             | 10             | 10184          | 3              | 5              | 6              | \n",
      "____________________ |_______________| _______________| _______________| _______________| _______________| _______________| \n",
      "Actual_ita           |21             | 20             | 6              | 10353          | 10             | 10             | \n",
      "____________________ |_______________| _______________| _______________| _______________| _______________| _______________| \n",
      "Actual_nld           |35             | 39             | 6              | 7              | 10333          | 4              | \n",
      "____________________ |_______________| _______________| _______________| _______________| _______________| _______________| \n",
      "Actual_spa           |163            | 18             | 5              | 19             | 10             | 10250          | \n",
      "____________________ |_______________| _______________| _______________| _______________| _______________| _______________| \n",
      "\n",
      "\n",
      "     Evaluation     \n",
      "                     TruePositive    FalsePositive   FalseNegative   TrueNegative    \n",
      "                     ______________  ______________  ______________  _____________   \n",
      "Actual_deu               10592           267            91            51538     \n",
      "                                                                                \n",
      "Actual_eng               10195           112            83            52098     \n",
      "                                                                                \n",
      "Actual_fra               10184           49             34            52221     \n",
      "                                                                                \n",
      "Actual_ita               10353           59             67            52009     \n",
      "                                                                                \n",
      "Actual_nld               10333           60             91            52004     \n",
      "                                                                                \n",
      "Actual_spa               10250           34             215           51989     \n",
      "                                                                                \n"
     ]
    }
   ],
   "source": [
    "evaluate_model(true_values, matriu_resultat)"
   ]
  },
  {
   "cell_type": "code",
   "execution_count": 68,
   "metadata": {},
   "outputs": [
    {
     "name": "stdout",
     "output_type": "stream",
     "text": [
      "Accuracy: 0.9802724432674162\n",
      "Precision: 0.9802724432674162\n"
     ]
    }
   ],
   "source": [
    "def calculate_metrics(valors_reals, matriz):\n",
    "    # Inicializar variables para almacenar el número total de muestras y la cantidad de muestras correctamente clasificadas\n",
    "    total_samples = 0\n",
    "    correctly_classified_samples = 0\n",
    "\n",
    "    for i in range(len(valors_reals)):\n",
    "        for j in range(len(valors_reals[i])):\n",
    "            if i == j:    \n",
    "                total_samples = valors_reals[i][j]\n",
    "                \n",
    "    \n",
    "    # Calcular el número total de muestras y la cantidad de muestras correctamente clasificadas\n",
    "    for i in range(len(valors_reals)):\n",
    "        for j in range(len(valors_reals[i])):\n",
    "            total_samples += valors_reals[i][j]\n",
    "            correctly_classified_samples += min(valors_reals[i][j], matriz[i][j])\n",
    "\n",
    "    # Calcular la precisión y la exactitud\n",
    "    accuracy = correctly_classified_samples / total_samples\n",
    "\n",
    "    # Calcular la precisión como la cantidad de muestras correctamente clasificadas dividida por el número total de muestras\n",
    "    precision = correctly_classified_samples / total_samples\n",
    "\n",
    "    return accuracy, precision\n",
    "\n",
    "# Ejemplo de uso\n",
    "valors_reals = [[10500, 0, 0, 0, 0, 0], \n",
    "                [0, 10554, 0, 0, 0, 0], \n",
    "                [0, 0, 10448, 0, 0, 0],\n",
    "                [0, 0, 0, 10463, 0, 0],\n",
    "                [0, 0, 0, 0, 10532, 0],\n",
    "                [0, 0, 0, 0, 0, 10562]]\n",
    "\n",
    "matriz = [[10592, 25, 10, 25, 22, 9],\n",
    "          [38, 10195, 22, 5, 13, 5],\n",
    "          [10, 10, 10184, 3, 5, 6],\n",
    "          [21, 20, 6, 10353, 10, 10],\n",
    "          [35, 39, 6, 7, 10333, 4],\n",
    "          [163, 18, 5, 19, 10, 10250]]\n",
    "\n",
    "accuracy, precision = calculate_metrics(valors_reals, matriz)\n",
    "print(\"Accuracy:\", accuracy)\n",
    "print(\"Precision:\", precision)\n"
   ]
  },
  {
   "cell_type": "code",
   "execution_count": 51,
   "metadata": {},
   "outputs": [],
   "source": [
    "real_values = np.array(valors_correctes)"
   ]
  },
  {
   "cell_type": "code",
   "execution_count": 66,
   "metadata": {},
   "outputs": [
    {
     "data": {
      "text/html": [
       "<div>\n",
       "<style scoped>\n",
       "    .dataframe tbody tr th:only-of-type {\n",
       "        vertical-align: middle;\n",
       "    }\n",
       "\n",
       "    .dataframe tbody tr th {\n",
       "        vertical-align: top;\n",
       "    }\n",
       "\n",
       "    .dataframe thead th {\n",
       "        text-align: right;\n",
       "    }\n",
       "</style>\n",
       "<table border=\"1\" class=\"dataframe\">\n",
       "  <thead>\n",
       "    <tr style=\"text-align: right;\">\n",
       "      <th></th>\n",
       "      <th>test acc[10592    25    10    25    22     9]</th>\n",
       "      <th>test acc[   38 10195    22     5    13     5]</th>\n",
       "      <th>test acc[   10    10 10184     3     5     6]</th>\n",
       "      <th>test acc[   21    20     6 10353    10    10]</th>\n",
       "      <th>test acc[   35    39     6     7 10333     4]</th>\n",
       "      <th>test acc[  163    18     5    19    10 10250]</th>\n",
       "    </tr>\n",
       "  </thead>\n",
       "  <tbody>\n",
       "    <tr>\n",
       "      <th>Identificació Idioma</th>\n",
       "      <td>0.0</td>\n",
       "      <td>0.0</td>\n",
       "      <td>0.0</td>\n",
       "      <td>0.0</td>\n",
       "      <td>0.0</td>\n",
       "      <td>0.0</td>\n",
       "    </tr>\n",
       "  </tbody>\n",
       "</table>\n",
       "</div>"
      ],
      "text/plain": [
       "                      test acc[10592    25    10    25    22     9]  \\\n",
       "Identificació Idioma                                            0.0   \n",
       "\n",
       "                      test acc[   38 10195    22     5    13     5]  \\\n",
       "Identificació Idioma                                            0.0   \n",
       "\n",
       "                      test acc[   10    10 10184     3     5     6]  \\\n",
       "Identificació Idioma                                            0.0   \n",
       "\n",
       "                      test acc[   21    20     6 10353    10    10]  \\\n",
       "Identificació Idioma                                            0.0   \n",
       "\n",
       "                      test acc[   35    39     6     7 10333     4]  \\\n",
       "Identificació Idioma                                            0.0   \n",
       "\n",
       "                      test acc[  163    18     5    19    10 10250]  \n",
       "Identificació Idioma                                            0.0  "
      ]
     },
     "execution_count": 66,
     "metadata": {},
     "output_type": "execute_result"
    }
   ],
   "source": [
    "results_df = save_results(matriz, real_values, 'Identificació Idioma', results_df)\n",
    "results_df"
   ]
  }
 ],
 "metadata": {
  "kernelspec": {
   "display_name": "Python 3",
   "language": "python",
   "name": "python3"
  },
  "language_info": {
   "codemirror_mode": {
    "name": "ipython",
    "version": 3
   },
   "file_extension": ".py",
   "mimetype": "text/x-python",
   "name": "python",
   "nbconvert_exporter": "python",
   "pygments_lexer": "ipython3",
   "version": "3.12.2"
  }
 },
 "nbformat": 4,
 "nbformat_minor": 2
}
