{
 "cells": [
  {
   "cell_type": "markdown",
   "metadata": {},
   "source": [
    "# Pràctica 1"
   ]
  },
  {
   "cell_type": "markdown",
   "metadata": {},
   "source": [
    "Carregar totes les dades"
   ]
  },
  {
   "cell_type": "code",
   "execution_count": 5,
   "metadata": {},
   "outputs": [],
   "source": [
    "with open('C:/Users/Usuario/OneDrive/Escritorio/UPC/4rt Quadrimestre/PLH/Pràctica1/langId/deu_trn.txt', 'r', encoding='utf-8') as f:\n",
    "    deu_trn = f.read()\n",
    "\n",
    "with open('C:/Users/Usuario/OneDrive/Escritorio/UPC/4rt Quadrimestre/PLH/Pràctica1/langId/deu_tst.txt', 'r', encoding='utf-8') as f:\n",
    "    deu_tst = f.read()\n",
    "    \n",
    "with open('C:/Users/Usuario/OneDrive/Escritorio/UPC/4rt Quadrimestre/PLH/Pràctica1/langId/eng_trn.txt', 'r', encoding='utf-8') as f:\n",
    "    eng_trn = f.read()\n",
    "    \n",
    "with open('C:/Users/Usuario/OneDrive/Escritorio/UPC/4rt Quadrimestre/PLH/Pràctica1/langId/eng_tst.txt', 'r', encoding='utf-8') as f:\n",
    "    eng_tst = f.read()\n",
    "    \n",
    "with open('C:/Users/Usuario/OneDrive/Escritorio/UPC/4rt Quadrimestre/PLH/Pràctica1/langId/fra_trn.txt', 'r', encoding='utf-8') as f:\n",
    "    fra_trn = f.read()\n",
    "    \n",
    "with open('C:/Users/Usuario/OneDrive/Escritorio/UPC/4rt Quadrimestre/PLH/Pràctica1/langId/fra_tst.txt', 'r', encoding='utf-8') as f:\n",
    "    fra_tst = f.read()\n",
    "    \n",
    "with open('C:/Users/Usuario/OneDrive/Escritorio/UPC/4rt Quadrimestre/PLH/Pràctica1/langId/ita_trn.txt', 'r', encoding='utf-8') as f:\n",
    "    ita_trn = f.read()\n",
    "    \n",
    "with open('C:/Users/Usuario/OneDrive/Escritorio/UPC/4rt Quadrimestre/PLH/Pràctica1/langId/ita_tst.txt', 'r', encoding='utf-8') as f:\n",
    "    ita_tst = f.read()\n",
    "    \n",
    "with open('C:/Users/Usuario/OneDrive/Escritorio/UPC/4rt Quadrimestre/PLH/Pràctica1/langId/nld_trn.txt', 'r', encoding='utf-8') as f:\n",
    "    nld_trn = f.read()\n",
    "    \n",
    "with open('C:/Users/Usuario/OneDrive/Escritorio/UPC/4rt Quadrimestre/PLH/Pràctica1/langId/nld_tst.txt', 'r', encoding='utf-8') as f:\n",
    "    nld_tst = f.read()\n",
    "    \n",
    "with open('C:/Users/Usuario/OneDrive/Escritorio/UPC/4rt Quadrimestre/PLH/Pràctica1/langId/spa_trn.txt', 'r', encoding='utf-8') as f:\n",
    "    spa_trn = f.read()\n",
    "    \n",
    "with open('C:/Users/Usuario/OneDrive/Escritorio/UPC/4rt Quadrimestre/PLH/Pràctica1/langId/spa_tst.txt', 'r', encoding='utf-8') as f:\n",
    "    spa_tst = f.read()"
   ]
  },
  {
   "cell_type": "markdown",
   "metadata": {},
   "source": [
    "## Preprocessing"
   ]
  },
  {
   "cell_type": "markdown",
   "metadata": {},
   "source": [
    "### Eliminació de digits"
   ]
  },
  {
   "cell_type": "code",
   "execution_count": 6,
   "metadata": {},
   "outputs": [],
   "source": [
    "import re\n",
    "\n",
    "sense_digits_deu_trn = re.sub(r'\\d', '', deu_trn)\n",
    "sense_digits_deu_tst = re.sub(r'\\d', '', deu_tst)\n",
    "\n",
    "sense_digits_eng_trn = re.sub(r'\\d', '', eng_trn)\n",
    "sense_digits_eng_tst = re.sub(r'\\d', '', eng_tst)\n",
    "\n",
    "sense_digits_fra_trn = re.sub(r'\\d', '', fra_trn)\n",
    "sense_digits_fra_tst = re.sub(r'\\d', '', fra_tst)\n",
    "\n",
    "sense_digits_ita_trn = re.sub(r'\\d', '', ita_trn)\n",
    "sense_digits_ita_tst = re.sub(r'\\d', '', ita_tst)\n",
    "\n",
    "sense_digits_nld_trn = re.sub(r'\\d', '', nld_trn)\n",
    "sense_digits_nld_tst = re.sub(r'\\d', '', nld_tst)\n",
    "\n",
    "sense_digits_spa_trn = re.sub(r'\\d', '', spa_trn)\n",
    "sense_digits_spa_tst = re.sub(r'\\d', '', spa_tst)"
   ]
  },
  {
   "cell_type": "markdown",
   "metadata": {},
   "source": [
    "### Convertir text en miniscula"
   ]
  },
  {
   "cell_type": "code",
   "execution_count": 7,
   "metadata": {},
   "outputs": [],
   "source": [
    "minuscules_deu_trn = sense_digits_deu_trn.lower()\n",
    "minuscules_deu_tst = sense_digits_deu_tst.lower()\n",
    "\n",
    "minuscules_eng_trn = sense_digits_eng_trn.lower()\n",
    "minuscules_eng_tst = sense_digits_eng_tst.lower()\n",
    "\n",
    "minuscules_fra_trn = sense_digits_fra_trn.lower()\n",
    "minuscules_fra_tst = sense_digits_fra_tst.lower()\n",
    "\n",
    "minuscules_ita_trn = sense_digits_ita_trn.lower()\n",
    "minuscules_ita_tst = sense_digits_ita_tst.lower()\n",
    "\n",
    "minuscules_nld_trn = sense_digits_nld_trn.lower()\n",
    "minuscules_nld_tst = sense_digits_nld_tst.lower()\n",
    "\n",
    "minuscules_spa_trn = sense_digits_spa_trn.lower()\n",
    "minuscules_spa_tst = sense_digits_spa_tst.lower()"
   ]
  },
  {
   "cell_type": "markdown",
   "metadata": {},
   "source": [
    "### Substitució d'espais continus"
   ]
  },
  {
   "cell_type": "code",
   "execution_count": 8,
   "metadata": {},
   "outputs": [],
   "source": [
    "un_espai_deu_trn = re.sub(r'\\s+', ' ', minuscules_deu_trn)\n",
    "un_espai_deu_tst = re.sub(r'\\s+', ' ', minuscules_deu_tst)\n",
    "\n",
    "un_espai_eng_trn = re.sub(r'\\s+', ' ', minuscules_eng_trn)\n",
    "un_espai_eng_tst = re.sub(r'\\s+', ' ', minuscules_eng_tst)\n",
    "\n",
    "un_espai_fra_trn = re.sub(r'\\s+', ' ', minuscules_fra_trn)\n",
    "un_espai_fra_tst = re.sub(r'\\s+', ' ', minuscules_fra_tst)\n",
    "\n",
    "un_espai_ita_trn = re.sub(r'\\s+', ' ', minuscules_ita_trn)\n",
    "un_espai_ita_tst = re.sub(r'\\s+', ' ', minuscules_ita_tst)\n",
    "\n",
    "un_espai_nld_trn = re.sub(r'\\s+', ' ', minuscules_nld_trn)\n",
    "un_espai_nld_tst = re.sub(r'\\s+', ' ', minuscules_nld_tst)\n",
    "\n",
    "un_espai_spa_trn = re.sub(r'\\s+', ' ', minuscules_spa_trn)\n",
    "un_espai_spa_tst = re.sub(r'\\s+', ' ', minuscules_spa_tst)"
   ]
  },
  {
   "cell_type": "markdown",
   "metadata": {},
   "source": [
    "### Cocatenar frases amb un espai doble"
   ]
  },
  {
   "cell_type": "code",
   "execution_count": 9,
   "metadata": {},
   "outputs": [],
   "source": [
    "import nltk\n",
    "from nltk.tokenize import sent_tokenize\n"
   ]
  },
  {
   "cell_type": "code",
   "execution_count": 10,
   "metadata": {},
   "outputs": [],
   "source": [
    "# Divideix el text en frases\n",
    "frases = sent_tokenize(un_espai_deu_trn, language='german')\n",
    "text_processat_deu_trn = \"  \".join(frases)\n",
    "frases = sent_tokenize(un_espai_deu_tst, language='german')\n",
    "text_processat_deu_tst = \"  \".join(frases)\n",
    "\n",
    "frases = sent_tokenize(un_espai_eng_trn)\n",
    "text_processat_eng_trn = \"  \".join(frases)\n",
    "frases = sent_tokenize(un_espai_eng_tst)\n",
    "text_processat_eng_tst = \"  \".join(frases)\n",
    "\n",
    "frases = sent_tokenize(un_espai_fra_trn, language='french')\n",
    "text_processat_fra_trn = \"  \".join(frases)\n",
    "frases = sent_tokenize(un_espai_fra_tst, language='french')\n",
    "text_processat_fra_tst = \"  \".join(frases)\n",
    "\n",
    "frases = sent_tokenize(un_espai_ita_trn, language='italian')\n",
    "text_processat_ita_trn = \"  \".join(frases)\n",
    "frases = sent_tokenize(un_espai_ita_tst, language='italian')\n",
    "text_processat_ita_tst = \"  \".join(frases)\n",
    "\n",
    "frases = sent_tokenize(un_espai_nld_trn, language='dutch')\n",
    "text_processat_nld_trn = \"  \".join(frases)\n",
    "frases = sent_tokenize(un_espai_nld_tst, language='dutch')\n",
    "text_processat_nld_tst = \"  \".join(frases)\n",
    "\n",
    "frases = sent_tokenize(un_espai_spa_trn, language='spanish')\n",
    "text_processat_spa_trn = \"  \".join(frases)\n",
    "frases = sent_tokenize(un_espai_spa_tst, language='spanish')\n",
    "text_processat_spa_tst = \"  \".join(frases)"
   ]
  },
  {
   "cell_type": "markdown",
   "metadata": {},
   "source": [
    "## Utilitzem trigrams de caràcters com a model del llenguatge"
   ]
  },
  {
   "cell_type": "code",
   "execution_count": 11,
   "metadata": {},
   "outputs": [],
   "source": [
    "from nltk.collocations import TrigramCollocationFinder"
   ]
  },
  {
   "cell_type": "code",
   "execution_count": 13,
   "metadata": {},
   "outputs": [],
   "source": [
    "trigrames_deu_trn = TrigramCollocationFinder.from_words(text_processat_deu_trn)\n",
    "trigrames_deu_tst = TrigramCollocationFinder.from_words(text_processat_deu_tst)\n",
    "\n",
    "trigrames_eng_trn = TrigramCollocationFinder.from_words(text_processat_eng_trn)\n",
    "trigrames_eng_tst = TrigramCollocationFinder.from_words(text_processat_eng_tst)\n",
    "\n",
    "trigrames_fra_trn = TrigramCollocationFinder.from_words(text_processat_fra_trn)\n",
    "trigrames_fra_tst = TrigramCollocationFinder.from_words(text_processat_fra_tst)\n",
    "\n",
    "trigrames_ita_trn = TrigramCollocationFinder.from_words(text_processat_ita_trn)\n",
    "trigrames_ita_tst = TrigramCollocationFinder.from_words(text_processat_ita_tst)\n",
    "\n",
    "trigrames_nld_trn = TrigramCollocationFinder.from_words(text_processat_nld_trn)\n",
    "trigrames_nld_tst = TrigramCollocationFinder.from_words(text_processat_nld_tst)\n",
    "\n",
    "trigrames_spa_trn = TrigramCollocationFinder.from_words(text_processat_spa_trn)\n",
    "trigrames_spa_tst = TrigramCollocationFinder.from_words(text_processat_spa_tst)"
   ]
  },
  {
   "cell_type": "markdown",
   "metadata": {},
   "source": [
    "## Afegim tècnica de suavitzat"
   ]
  },
  {
   "cell_type": "markdown",
   "metadata": {},
   "source": [
    "Maximum likelihood estimator"
   ]
  },
  {
   "cell_type": "code",
   "execution_count": null,
   "metadata": {},
   "outputs": [],
   "source": []
  }
 ],
 "metadata": {
  "kernelspec": {
   "display_name": "Python 3",
   "language": "python",
   "name": "python3"
  },
  "language_info": {
   "codemirror_mode": {
    "name": "ipython",
    "version": 3
   },
   "file_extension": ".py",
   "mimetype": "text/x-python",
   "name": "python",
   "nbconvert_exporter": "python",
   "pygments_lexer": "ipython3",
   "version": "3.11.0"
  }
 },
 "nbformat": 4,
 "nbformat_minor": 2
}
